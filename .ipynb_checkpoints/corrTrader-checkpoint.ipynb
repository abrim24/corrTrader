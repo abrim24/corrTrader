{
 "cells": [
  {
   "cell_type": "markdown",
   "metadata": {},
   "source": [
    "<h2> Stock Market Correlation Detection by a Multi-Agent Intelligent System </h2>\n"
   ]
  },
  {
   "cell_type": "code",
   "execution_count": null,
   "metadata": {
    "collapsed": true
   },
   "outputs": [],
   "source": []
  },
  {
   "cell_type": "code",
   "execution_count": null,
   "metadata": {
    "collapsed": true
   },
   "outputs": [],
   "source": []
  },
  {
   "cell_type": "markdown",
   "metadata": {},
   "source": [
    "<h3>Abstract</h3>\n",
    "\n",
    "<p>\n",
    "Every Sector of the Stock Market has stocks whose prices correlate[1] which\n",
    "each other. As the stock market moves up and down, stocks in the same sector\n",
    "often move up and down with each other. But what if there exists correlation[2]\n",
    "between stocks from different sectors?\n",
    "</p>\n",
    "<p>\n",
    "This paper analyzes the approach of detecting inter-sector Stock price correlation,\n",
    "by using a multi-agent intelligent System. There are other papers\n",
    "looking dealing with similar looks at the stock market[3], but this approach will\n",
    "focus the agents on analyzing correlation. Each agent will be a process, which\n",
    "analyzes the correlation between stock prices in a given business sector. For\n",
    "example, one process would analyze the correlation between stock prices in the\n",
    "financial sector. Another process would analyze the correlation between stock\n",
    "prices in the tech sector. These agents will communicate with each other, to\n",
    "find correlation in large datasets.\n",
    "</p>\n",
    "<p>\n",
    "Each of the agents will first find stocks with a high correlation-coefficient\n",
    "in their own sector. Then as those stocks are discovered, they will be passed\n",
    "along to other agents analyzing other sectors, to see if the correlation extends\n",
    "across multiple sectors. This cooperative information from the agents would\n",
    "allow prediction of how stock price trend could move across different sectors.\n",
    "The goal with the agents in this system is finding the correlation coefficient\n",
    "between stocks. Assigning each agent a given sector, or subset of that sector,\n",
    "would allow them to focus on a small piece of the larger puzzle and do so in a fast\n",
    "autonomous way. After the agent has found correlation between stock prices,\n",
    "only that information would be communicated to other agents. Thus eliminating\n",
    "large amounts of communication overhead. Each agent would only be testing\n",
    "for correlation with stocks from another sector, if those stocks had already\n",
    "exhibited correlation. The data containing which stock prices have correlation\n",
    "would be stored locally. Occasionally there would be a data aggregation process\n",
    "to collect information from the agents, but there would be little to no overhead\n",
    "of communicating with a centralized, or parent process.\n",
    "</p>"
   ]
  },
  {
   "cell_type": "markdown",
   "metadata": {},
   "source": [
    "<h3>What will the agents do, and how will they communicate?</h3>\n",
    "<p>\n",
    "<br>1.\tRun a correlation coefficient between multiple stock prices, for example 10 prices in a given sector, to determine if the stock prices move up or down together.\n",
    "<br>2.\tIf you find a correlation between prices in a certain sector, continue monitoring those stock prices, and also send the stock information to other processes which are monitoring other sectors.  Thus enabling the other agents to see if stocks which are currently correlating to other stocks in one sector, are correlated to any stocks trending in another sector.\n",
    "<br>3.\tIf you receive a notification from another agent with stocks with are correlated and trending in another sector, calculate the correlation coefficients between those stocks and the stocks in the sector which you are monitoring.  \n",
    "<br>4.\tStore locally, the stocks in your sector and other sectors which have high correlation coefficients.  Over time, all the agents should have the information about which stocks from different sectors, have high correlation coefficients.\n",
    "</p>\n",
    "\n",
    "<h3>How will they be intelligent?</h3>\n",
    "<p>\n",
    "Each of the agents will first find stocks with a high correlation-coefficient in their own sector.  Then as those stocks are discovered, they will be passed along to other agents analyzing other sectors, to see if the correlation extends accross multiple sectors.  This cooperative information from the agents would allow prediction of how stock price trend could move accross different sectors.\n",
    "</p>\n",
    "\n",
    "<h3>What do you hope to accomplish?</h3>\n",
    "<p>\n",
    "The goal with the agents in this system is finding the correlation coefficient betweens stocks.  Assigning each agent a given sector, or subset of that sector, would allow them to focus on a small piece of the larger puzzle and do so in a fast autonomous way.  After the agent has found correlation between stock prices, only that information would be communicated to other agents.  Thus eliminating large amounts of communication overhead.  Each agent would only be testing for correlation with stocks from another sector, if those stocks had already exhibited correlation.  The data containing which stock prices have correlation would be stored locally.  Occasionally there would be a data aggregation process to collect information from the agents, but there would be little to no overhead of communicating with a centralized, or parent process.\n",
    "</p>\n"
   ]
  },
  {
   "cell_type": "markdown",
   "metadata": {},
   "source": [
    "<h2>Code (partial)</h2>\n",
    "\n",
    "ToDo Bugfix: yahoo_finance modules not loaded"
   ]
  },
  {
   "cell_type": "code",
   "execution_count": 4,
   "metadata": {
    "collapsed": false
   },
   "outputs": [
    {
     "ename": "ImportError",
     "evalue": "No module named yahoo_finance",
     "output_type": "error",
     "traceback": [
      "\u001b[0;31m---------------------------------------------------------------------------\u001b[0m",
      "\u001b[0;31mImportError\u001b[0m                               Traceback (most recent call last)",
      "\u001b[0;32m<ipython-input-4-df2f90a83300>\u001b[0m in \u001b[0;36m<module>\u001b[0;34m()\u001b[0m\n\u001b[1;32m      3\u001b[0m \u001b[0;32mimport\u001b[0m \u001b[0mpdb\u001b[0m\u001b[0;34m\u001b[0m\u001b[0m\n\u001b[1;32m      4\u001b[0m \u001b[0;32mimport\u001b[0m \u001b[0mnumpy\u001b[0m \u001b[0;32mas\u001b[0m \u001b[0mnp\u001b[0m\u001b[0;34m\u001b[0m\u001b[0m\n\u001b[0;32m----> 5\u001b[0;31m \u001b[0;32mimport\u001b[0m \u001b[0myahoo_finance\u001b[0m \u001b[0;32mas\u001b[0m \u001b[0my\u001b[0m\u001b[0;34m\u001b[0m\u001b[0m\n\u001b[0m\u001b[1;32m      6\u001b[0m \u001b[0;32mfrom\u001b[0m \u001b[0mpandas\u001b[0m \u001b[0;32mimport\u001b[0m \u001b[0;34m*\u001b[0m\u001b[0;34m\u001b[0m\u001b[0m\n\u001b[1;32m      7\u001b[0m \u001b[0;32mimport\u001b[0m \u001b[0mmatplotlib\u001b[0m\u001b[0;34m.\u001b[0m\u001b[0mpyplot\u001b[0m \u001b[0;32mas\u001b[0m \u001b[0mplot\u001b[0m\u001b[0;34m\u001b[0m\u001b[0m\n",
      "\u001b[0;31mImportError\u001b[0m: No module named yahoo_finance"
     ]
    }
   ],
   "source": [
    "__author__ = 'andy'\n",
    "\n",
    "import pdb\n",
    "import numpy as np\n",
    "import yahoo_finance as y\n",
    "from pandas import *\n",
    "import matplotlib.pyplot as plot\n",
    "\n",
    "\n",
    "\n",
    "def main():\n",
    "    #goog = DataReader('GOOG',  'yahoo', datetime(2000,1,1), datetime(2012,1,1))\n",
    "    #print(goog['Adj Close'])\n",
    "    #exit(1)\n",
    "\n",
    "    yahoo = y.Share('YHOO')\n",
    "\n",
    "    sectorsTxt = ['it','energy','financials','industrials','healthcare','consumerdisc','consumerstaples']\n",
    "    it = ['CTSH','ADP','PYPL','YHOO','AVGO','EBAY','BRCM','GLW','MU','VMW']\n",
    "    energy = ['PSX','APC','HAL','WMB','VLO','MPC','BHI','SE','DVN','APA']\n",
    "    financials = ['CB','MMC','BBT','CME','STT','EQR','AFL','ALL','DFS','BEN']\n",
    "    industrials = ['PCP','EMR','AAL','CSX','DE','ITW','ETN','NSC','WM','CMI']\n",
    "    healthcare = ['SYK','BDX','HUM','VRTX','CAH','HCA','ILMN','BAX','MYL','BXLT']\n",
    "    consumerdisc = ['CMCSK','TSLA','CBS','CCL','LVS','VIAB','FOX','TRI','DISH','VIA']\n",
    "    consumerstaples = ['MDLZ','COST','CL','KHC','KMB','RAI','KR','GIS','ADM','EL']\n",
    "\n",
    "    sectors = [it,energy,financials,industrials,healthcare,consumerdisc,consumerstaples]\n",
    "\n",
    "\n",
    "    print energy\n",
    "\n",
    "    print yahoo.get_price()\n",
    "    print yahoo.get_open()\n",
    "    print yahoo.get_prev_close()\n",
    "    startDate = '2015-08-01'\n",
    "    endDate = '2015-11-02'\n",
    "    histdata = yahoo.get_historical(startDate,endDate)\n",
    "    tickPrices = []\n",
    "    for i in histdata: tickPrices.append(float(i['Adj_Close']))\n",
    "    print histdata\n",
    "    print tickPrices\n",
    "    #exit(1)\n",
    "\n",
    "    sectorPrices = []\n",
    "    i=0\n",
    "    for sector in sectors:\n",
    "        print \"Sector: \" + str(sectorsTxt[i])\n",
    "        prices=[]\n",
    "        for ticker in sector:\n",
    "            tickerPrices = y.Share(ticker).get_historical(startDate,endDate)\n",
    "            cleanPrices =[]\n",
    "            for j in tickerPrices: cleanPrices.append(float(j['Adj_Close']))\n",
    "            prices.append(cleanPrices)\n",
    "        sectorPrices.append(prices)\n",
    "        i+=1\n",
    "\n",
    "    highcorrs = []\n",
    "    highpairs = []\n",
    "    \n",
    "if __name__ == \"__main__\": main()\n"
   ]
  }
 ],
 "metadata": {
  "kernelspec": {
   "display_name": "Python 2",
   "language": "python",
   "name": "python2"
  },
  "language_info": {
   "codemirror_mode": {
    "name": "ipython",
    "version": 2
   },
   "file_extension": ".py",
   "mimetype": "text/x-python",
   "name": "python",
   "nbconvert_exporter": "python",
   "pygments_lexer": "ipython2",
   "version": "2.7.9"
  }
 },
 "nbformat": 4,
 "nbformat_minor": 0
}
