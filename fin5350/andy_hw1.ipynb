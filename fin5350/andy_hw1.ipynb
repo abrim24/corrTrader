{
 "cells": [
  {
   "cell_type": "markdown",
   "metadata": {},
   "source": [
    "__Finance 5350__ <br>\n",
    "__Fall 2016__ <br>\n",
    "__Homework #1__<br>\n",
    "\n",
    "Due date: Wednesday, September 14th by 5:00 pm. \n",
    "\n",
    "This is your first homework assignment meant to give you experience practicing programming in `Python`. Since we don't know very much yet, it will necessarily focus on the very beginning concepts of `Python`. "
   ]
  },
  {
   "cell_type": "markdown",
   "metadata": {},
   "source": [
    "## Question 1\n",
    "\n",
    "This first question comes from the [Dawson](http://goo.gl/I5mhHA) book in the exercises at the end of Chapter 1. \n",
    "\n",
    "Write a Car Salesman program (name it `car_salesman.py`) where the user enters the base price of a car. The program should add on a bunch of extra fees such as tax, license, dealer prep, and destination charge. Make tax and license a percent of the base price. The other fees should be set values. Display the actual price of the car once all the extras are applied.\n",
    "\n",
    "You can also program your answer in the following code cell:\n"
   ]
  },
  {
   "cell_type": "code",
   "execution_count": 5,
   "metadata": {
    "collapsed": false
   },
   "outputs": [
    {
     "name": "stdout",
     "output_type": "stream",
     "text": [
      "Enter the car base price: 100\n",
      "Car Final Price is:  1061.1\n"
     ]
    }
   ],
   "source": [
    "def calcFinalPrice(price):\n",
    "    return addFees(addDestCharge(addDealerPrep(calcLicense(calcTax(price)))))\n",
    "\n",
    "def calcTax(price):\n",
    "    return price * 1.10\n",
    "\n",
    "def calcLicense(price):\n",
    "    return price * 1.01\n",
    "\n",
    "def addDealerPrep(price):\n",
    "    return price + 150.0\n",
    "\n",
    "def addDestCharge(price):\n",
    "    return price + 300.0\n",
    "\n",
    "def addFees(price):\n",
    "    return price + 500.0\n",
    "\n",
    "\n",
    "def main():\n",
    "    price = float(input(\"Enter the car base price: \"))\n",
    "    print(\"Car Final Price is: \", calcFinalPrice(price))\n",
    "\n",
    "if __name__ == \"__main__\":main()"
   ]
  },
  {
   "cell_type": "markdown",
   "metadata": {},
   "source": [
    "For now you need not worry about using the `input` function. You can just assign the price of the car to a variable. However, if you want you can use the input function. It's pretty easy and simple to use. Here is a demonstration:"
   ]
  },
  {
   "cell_type": "code",
   "execution_count": 2,
   "metadata": {
    "collapsed": false
   },
   "outputs": [
    {
     "name": "stdout",
     "output_type": "stream",
     "text": [
      "Please enter your name:Gustov\n",
      "Hello,  Gustov !\n"
     ]
    }
   ],
   "source": [
    "name = input(\"Please enter your name:\")\n",
    "print(\"Hello, \", name, \"!\")"
   ]
  },
  {
   "cell_type": "markdown",
   "metadata": {},
   "source": [
    "## Question 2\n",
    "\n",
    "Now for something a little more finance-y. Imagine you or your friend are taking Finance 3200 and for your homework assignments you are needing to calculate expected returns for the CAPM model many dozens of times. Instead of punching the numbers into a calculator over and over again you decide to program a CAPM calculator in `Python`.\n",
    "\n",
    "Recall the CAPM model is the following:\n",
    "\n",
    "$$\n",
    "E(R_{p}) - R_{f} = \\beta [E(R_{M}) - R_{f}]\n",
    "$$\n",
    "\n",
    "The parameter values you need to give the CAPM model are the following:\n",
    "\n",
    "- The expected return on the asset: $E(R_{p})$\n",
    "\n",
    "- The expected return on the market portfolio: $E(R_{M})$\n",
    "\n",
    "- The risk-free rate: $R_{f}$\n",
    "\n",
    "- The beta coefficient: $\\beta$\n",
    "\n",
    "Again, you can either directly assign these values to variables in your program, or better yet, you can use the `input` function.\n",
    "\n",
    "For example, if I wanted to get input from the user about the $\\beta$, I might code it something like this:\n"
   ]
  },
  {
   "cell_type": "code",
   "execution_count": 3,
   "metadata": {
    "collapsed": false
   },
   "outputs": [
    {
     "name": "stdout",
     "output_type": "stream",
     "text": [
      "Please enter the Beta:1.3\n"
     ]
    }
   ],
   "source": [
    "beta = input(\"Please enter the Beta:\")"
   ]
  },
  {
   "cell_type": "markdown",
   "metadata": {},
   "source": [
    "But, wait! I think there is a problem. Check the type of the input value as follows:"
   ]
  },
  {
   "cell_type": "code",
   "execution_count": 5,
   "metadata": {
    "collapsed": false
   },
   "outputs": [
    {
     "data": {
      "text/plain": [
       "str"
      ]
     },
     "execution_count": 5,
     "metadata": {},
     "output_type": "execute_result"
    }
   ],
   "source": [
    "type(beta)"
   ]
  },
  {
   "cell_type": "markdown",
   "metadata": {},
   "source": [
    "A string isn't what we want. We want a floating point value. You can get that in the following way:"
   ]
  },
  {
   "cell_type": "code",
   "execution_count": 6,
   "metadata": {
    "collapsed": true
   },
   "outputs": [],
   "source": [
    "beta = float(beta)"
   ]
  },
  {
   "cell_type": "markdown",
   "metadata": {},
   "source": [
    "Now we should be good, but let's check to make sure:"
   ]
  },
  {
   "cell_type": "code",
   "execution_count": 7,
   "metadata": {
    "collapsed": false
   },
   "outputs": [
    {
     "data": {
      "text/plain": [
       "float"
      ]
     },
     "execution_count": 7,
     "metadata": {},
     "output_type": "execute_result"
    }
   ],
   "source": [
    "type(beta)"
   ]
  },
  {
   "cell_type": "markdown",
   "metadata": {},
   "source": [
    "Yep! We're good. We can actually do this all in one line like this:"
   ]
  },
  {
   "cell_type": "code",
   "execution_count": 8,
   "metadata": {
    "collapsed": false
   },
   "outputs": [
    {
     "name": "stdout",
     "output_type": "stream",
     "text": [
      "Please enter the Beta:1.3\n"
     ]
    }
   ],
   "source": [
    "beta = float(input(\"Please enter the Beta:\"))"
   ]
  },
  {
   "cell_type": "code",
   "execution_count": 9,
   "metadata": {
    "collapsed": false
   },
   "outputs": [
    {
     "data": {
      "text/plain": [
       "float"
      ]
     },
     "execution_count": 9,
     "metadata": {},
     "output_type": "execute_result"
    }
   ],
   "source": [
    "type(beta)"
   ]
  },
  {
   "cell_type": "markdown",
   "metadata": {},
   "source": [
    "We still have to be a bit careful though because if the user gives something other than a numerical value the interpreter will squel like this:"
   ]
  },
  {
   "cell_type": "code",
   "execution_count": 10,
   "metadata": {
    "collapsed": false
   },
   "outputs": [
    {
     "name": "stdout",
     "output_type": "stream",
     "text": [
      "Please enter the Beta:\"Gilligan's Island\"\n"
     ]
    },
    {
     "ename": "ValueError",
     "evalue": "could not convert string to float: '\"Gilligan\\'s Island\"'",
     "output_type": "error",
     "traceback": [
      "\u001b[1;31m---------------------------------------------------------------------------\u001b[0m",
      "\u001b[1;31mValueError\u001b[0m                                Traceback (most recent call last)",
      "\u001b[1;32m<ipython-input-10-eb8d7fb763d5>\u001b[0m in \u001b[0;36m<module>\u001b[1;34m()\u001b[0m\n\u001b[1;32m----> 1\u001b[1;33m \u001b[0mbeta\u001b[0m \u001b[1;33m=\u001b[0m \u001b[0mfloat\u001b[0m\u001b[1;33m(\u001b[0m\u001b[0minput\u001b[0m\u001b[1;33m(\u001b[0m\u001b[1;34m\"Please enter the Beta:\"\u001b[0m\u001b[1;33m)\u001b[0m\u001b[1;33m)\u001b[0m\u001b[1;33m\u001b[0m\u001b[0m\n\u001b[0m",
      "\u001b[1;31mValueError\u001b[0m: could not convert string to float: '\"Gilligan\\'s Island\"'"
     ]
    }
   ],
   "source": [
    "beta = float(input(\"Please enter the Beta:\"))"
   ]
  },
  {
   "cell_type": "markdown",
   "metadata": {},
   "source": [
    "I'll be showing you how to deal with this when we get to exceptions. For now, just make sure to input floating point values!\n",
    "\n",
    "\n",
    "Call your program `capm_calculator.py`. Also, put your program in the code cell below:"
   ]
  },
  {
   "cell_type": "code",
   "execution_count": null,
   "metadata": {
    "collapsed": false
   },
   "outputs": [],
   "source": [
    "def calcCapm(b,r,erm):\n",
    "    return (b * (erm-r)) + r\n",
    "\n",
    "def getVals():\n",
    "    b = input(\"Enter beta: \")\n",
    "    erm = input(\"Enter risk-free rate: \")\n",
    "    r = input(\"Enter expected of Market: \")\n",
    "    if (not type(b) == float) or (not type(r) == float) or (not type(erm == float)): badInput()\n",
    "    return [b,erm,r]\n",
    "        \n",
    "def badInput():\n",
    "    print(\"Bad Input, Run Again!\")\n",
    "    exit\n",
    "    \n",
    "def main():\n",
    "    vals = getVals()\n",
    "    print(\"Expected return is: \",calcCapm(vals[0],vals[1],vals[2]))\n",
    "    \n",
    "if __name__==\"__main__\":main()"
   ]
  },
  {
   "cell_type": "code",
   "execution_count": null,
   "metadata": {
    "collapsed": true
   },
   "outputs": [],
   "source": []
  },
  {
   "cell_type": "code",
   "execution_count": null,
   "metadata": {
    "collapsed": true
   },
   "outputs": [],
   "source": []
  }
 ],
 "metadata": {
  "anaconda-cloud": {},
  "kernelspec": {
   "display_name": "Python [Root]",
   "language": "python",
   "name": "Python [Root]"
  },
  "language_info": {
   "codemirror_mode": {
    "name": "ipython",
    "version": 3
   },
   "file_extension": ".py",
   "mimetype": "text/x-python",
   "name": "python",
   "nbconvert_exporter": "python",
   "pygments_lexer": "ipython3",
   "version": "3.5.2"
  }
 },
 "nbformat": 4,
 "nbformat_minor": 0
}
