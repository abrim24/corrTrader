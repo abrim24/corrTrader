{
 "metadata": {
  "name": "",
  "signature": "sha256:3ed1353998affc072ec0074a553fe3643b49cde67779b086f19738607dbf6cca"
 },
 "nbformat": 3,
 "nbformat_minor": 0,
 "worksheets": [
  {
   "cells": [
    {
     "cell_type": "markdown",
     "metadata": {},
     "source": [
      "# Finance 6320 Spring 2015\n",
      "\n",
      "### Dr. Brough \n",
      "### Homework 2 \n",
      "### Due date: TBA "
     ]
    },
    {
     "cell_type": "markdown",
     "metadata": {},
     "source": [
      "## Problem 1\n",
      "\n",
      "In this problem you will extend the `Option` class that we wrote together in class by providing a method to price an option with the single-period Binomial model.\n",
      "\n",
      "Remember that our class was the following (minor changes):"
     ]
    },
    {
     "cell_type": "code",
     "collapsed": false,
     "input": [
      "class EuropeanOption(object):\n",
      "    def __init__(self, strike):\n",
      "        self.strike = strike\n",
      "        \n",
      "    def GetStrike(self):\n",
      "        return self.strike\n",
      "    \n",
      "    def SetStrike(self, strike):\n",
      "        self.strike = strike"
     ],
     "language": "python",
     "metadata": {},
     "outputs": [],
     "prompt_number": 1
    },
    {
     "cell_type": "markdown",
     "metadata": {},
     "source": [
      "Which can used to instantiate objects as follows:"
     ]
    },
    {
     "cell_type": "code",
     "collapsed": false,
     "input": [
      "opt1 = EuropeanOption(40)\n",
      "opt2 = EuropeanOption(45)"
     ],
     "language": "python",
     "metadata": {},
     "outputs": [],
     "prompt_number": 2
    },
    {
     "cell_type": "code",
     "collapsed": false,
     "input": [
      "whos"
     ],
     "language": "python",
     "metadata": {},
     "outputs": [
      {
       "output_type": "stream",
       "stream": "stdout",
       "text": [
        "Variable         Type              Data/Info\n",
        "--------------------------------------------\n",
        "EuropeanOption   type              <class '__main__.EuropeanOption'>\n",
        "opt1             EuropeanOption    <__main__.EuropeanOption object at 0x106e29d30>\n",
        "opt2             EuropeanOption    <__main__.EuropeanOption object at 0x106e29710>\n"
       ]
      }
     ],
     "prompt_number": 3
    },
    {
     "cell_type": "markdown",
     "metadata": {},
     "source": [
      "In this problem you will add a class method called `GetPrice` that implements the single-period Binomial model (for a call option). Also add any other class attributes that you think are needed."
     ]
    },
    {
     "cell_type": "markdown",
     "metadata": {},
     "source": [
      "\n",
      "\n",
      "\n",
      "Please enter your code in the cell below:"
     ]
    },
    {
     "cell_type": "code",
     "collapsed": false,
     "input": [
      "import numpy as np\n",
      "\n",
      "class Option(object):\n",
      "    def __init__(self, strike):\n",
      "        self.strike = strike\n",
      "        \n",
      "    def GetStrike(self):\n",
      "        return self.strike\n",
      "    \n",
      "    def SetStrike(self, strike):\n",
      "        self.strike = strike\n",
      "        \n",
      "    def GetCallPrice(self, rate, volatility, period, share):\n",
      "        e = 2.718\n",
      "        strike = self.GetStrike()\n",
      "        print(\"strike: {}\".format(strike))\n",
      "        u = np.e**((rate*period)+(volatility*np.sqrt(period)))\n",
      "        \n",
      "        d = np.e**((rate*period)-(volatility*np.sqrt(period)))\n",
      "        print(\"u: {}\".format(u))\n",
      "        print(\"d: {}\".format(d))\n",
      "        us = share*u\n",
      "\n",
      "        ud = share*d\n",
      "\n",
      "        cu = max(us-strike,0)\n",
      "\n",
      "        cd = max(ud-strike,0)\n",
      "        print(\"cd: {}\".format(cd))\n",
      "        print(\"cu: {}\".format(cu))\n",
      "        delta = (cu-cd)/(share*(u-d))\n",
      "\n",
      "        B = e**-(rate*period)*((u*cd-d*cu)/(u-d))\n",
      "        \n",
      "        co = delta * share + B\n",
      "\n",
      "        return co\n",
      "        \n",
      "        \n",
      "    def GetPutPrice(self, rate, volatility, period, share):\n",
      "        e = 2.718\n",
      "        strike = self.GetStrike()\n",
      "        \n",
      "        u = np.e**((rate*period)+(volatility*np.sqrt(period)))\n",
      "        \n",
      "        d = np.e**((rate*period)-(volatility*np.sqrt(period)))\n",
      "        \n",
      "        us = share*u\n",
      "\n",
      "        ud = share*d\n",
      "\n",
      "        cu = max(strike - us,0)\n",
      "\n",
      "        cd = max(strike - ud,0)\n",
      "        \n",
      "        delta = (cu-cd)/(share*(u-d))\n",
      "\n",
      "        B = e**-(rate*period)*((u*cd-d*cu)/(u-d))\n",
      "        \n",
      "        co = delta * share + B\n",
      "\n",
      "        return co\n",
      "    \n",
      "        \n",
      "def main():\n",
      "    myoption = Option(40)\n",
      "    Callprice = myoption.GetCallPrice(.08,.3,1,41)\n",
      "    Putprice = myoption.GetPutPrice(.08,.3,1,41)\n",
      "    \n",
      "    print(\"The Call option price is: {}\".format(Callprice))\n",
      "    print(\"The Put option price is: {}\".format(Putprice))\n",
      "    \n",
      "    \n",
      "    \n",
      "\n",
      "if __name__ == \"__main__\": main()"
     ],
     "language": "python",
     "metadata": {},
     "outputs": [
      {
       "output_type": "stream",
       "stream": "stdout",
       "text": [
        "strike: 40\n",
        "u: 1.46228458943\n",
        "d: 0.802518797962\n",
        "cd: 0\n",
        "cu: 19.9536681668\n",
        "The Call option price is: 7.83839458263\n",
        "The Put option price is: 3.76335471983\n"
       ]
      }
     ],
     "prompt_number": 2
    },
    {
     "cell_type": "markdown",
     "metadata": {},
     "source": [
      "Figure out another way to implement the single-period Binomial model for a European Put option."
     ]
    },
    {
     "cell_type": "code",
     "collapsed": false,
     "input": [
      "import numpy as np\n",
      "\n",
      "class Option(object):\n",
      "    def __init__(self, strike):\n",
      "        self.strike = strike\n",
      "        \n",
      "    def GetStrike(self):\n",
      "        return self.strike\n",
      "    \n",
      "    def SetStrike(self, strike):\n",
      "        self.strike = strike\n",
      "        \n",
      "    def GetCallPrice(self, rate, volatility, period, share):\n",
      "        e = 2.718\n",
      "        strike = self.GetStrike()\n",
      "        \n",
      "        u = np.e**((rate*period)+(volatility*np.sqrt(period)))\n",
      "        \n",
      "        d = np.e**((rate*period)-(volatility*np.sqrt(period)))\n",
      "        \n",
      "        us = share*u\n",
      "\n",
      "        ud = share*d\n",
      "\n",
      "        cu = max(us-strike,0)\n",
      "\n",
      "        cd = max(ud-strike,0)\n",
      "        \n",
      "        pstar = (np.exp(rate * period) - d) / (u - d)\n",
      "        \n",
      "        disc = np.exp(-rate * period)\n",
      "        \n",
      "        co = disc * (pstar * cu + (1-pstar) * cd)\n",
      "        \n",
      "        return co\n",
      "        \n",
      "        \n",
      "    def GetPutPrice(self, rate, volatility, period, share):\n",
      "        e = 2.718\n",
      "        strike = self.GetStrike()\n",
      "        \n",
      "        u = np.e**((rate*period)+(volatility*np.sqrt(period)))\n",
      "        \n",
      "        d = np.e**((rate*period)-(volatility*np.sqrt(period)))\n",
      "        \n",
      "        us = share*u\n",
      "\n",
      "        ud = share*d\n",
      "\n",
      "        cu = max(strike - us,0)\n",
      "\n",
      "        cd = max(strike - ud,0)\n",
      "        \n",
      "        pstar = (np.exp(rate * period) - d) / (u - d)\n",
      "        \n",
      "        disc = np.exp(-rate * period)\n",
      "        \n",
      "        co = disc * (pstar * cu + (1-pstar) * cd)\n",
      "        \n",
      "        return co\n",
      "    \n",
      "        \n",
      "def main():\n",
      "    myoption = Option(40)\n",
      "    Callprice = myoption.GetCallPrice(.08,.3,1,41)\n",
      "    Putprice = myoption.GetPutPrice(.08,.3,1,41)\n",
      "    \n",
      "    print(\"The Call option price is: {}\".format(Callprice))\n",
      "    print(\"The Put option price is: {}\".format(Putprice))\n",
      "    \n",
      "    \n",
      "    \n",
      "\n",
      "if __name__ == \"__main__\": main()"
     ],
     "language": "python",
     "metadata": {},
     "outputs": [
      {
       "output_type": "stream",
       "stream": "stdout",
       "text": [
        "The Call option price is: 7.838580426945479\n",
        "The Put option price is: 3.763234282410906\n"
       ]
      }
     ],
     "prompt_number": 9
    },
    {
     "cell_type": "markdown",
     "metadata": {},
     "source": [
      "## Problem 2\n",
      "\n",
      "Now implement the multiperiod Binomial for both European calls and puts. Please enter your code below:"
     ]
    },
    {
     "cell_type": "code",
     "collapsed": false,
     "input": [
      "import numpy as np\n",
      "\n",
      "class VanillaOption(object):\n",
      "    def __init__(self,strike,expiry):\n",
      "        self.strike = strike\n",
      "        self.expiry = expiry\n",
      "    \n",
      "    def GetStrike(self):\n",
      "        return self.strike\n",
      "    \n",
      "    def SetStrike (self,strike):\n",
      "        self.strike = strike\n",
      "    \n",
      "    def GetExpiry(self):\n",
      "        return self.expiry\n",
      "    \n",
      "    def SetExpiry(self,expiry):\n",
      "        self.expiry = expiry\n",
      "    \n",
      "    def payoff(self,spot):\n",
      "        pass\n",
      "    \n",
      "class VanillaCallOption(VanillaOption):\n",
      "    def payoff(self,spot):\n",
      "        return np.maximum(spot - self.strike,0.0)\n",
      "        \n",
      "class VanillaPutOption(VanillaOption):\n",
      "    def payoff(self, spot):\n",
      "        return np.maximum(self.strike - spot, 0.0)\n",
      "    \n",
      " \n",
      "import numpy as np\n",
      "\n",
      "from scipy.stats import binom\n",
      "\n",
      "def EuropeanBinomialPricer(VanillaOption, spot, rate, sigma, N):\n",
      "    \n",
      "    K = VanillaOption.GetStrike()\n",
      "    T = VanillaOption.GetExpiry()\n",
      "    dt = T / N\n",
      "    u = np.exp((rate * dt) + (sigma * np.sqrt(dt)))\n",
      "    d = np.exp((rate * dt) - (sigma * np.sqrt(dt)))\n",
      "    pstar = (np.exp(rate * dt) - d) / (u - d)\n",
      "    disc = np.exp(-rate * T)\n",
      "\n",
      "    \n",
      "    sum = 0.0\n",
      "\n",
      "    for i in range(N, -1, -1):\n",
      "        St = spot * (u ** i) * (d ** (N - i))  \n",
      "        C = VanillaOption.payoff(St)\n",
      "        prob =  binom.pmf(i, N, pstar)\n",
      "        sum += prob * C\n",
      "\n",
      "    price = disc * sum\n",
      "\n",
      "    return price\n",
      "\n",
      "def main():\n",
      "    \n",
      "    call = VanillaCallOption(40, 1.0)\n",
      "    put = VanillaPutOption(40, 1.0)\n",
      "    spot = 41\n",
      "    rate = 0.08\n",
      "    sigma = 0.30\n",
      "    N = 3\n",
      "\n",
      "    callPrice = EuropeanBinomialPricer(call, spot, rate, sigma, N)\n",
      "    print(\"The European Call Price is {}\".format(callPrice))\n",
      "\n",
      "    putPrice = EuropeanBinomialPricer(put, spot, rate, sigma, N)\n",
      "    print(\"The European Put Price is {}\".format(putPrice))\n",
      "\n",
      "if __name__ == \"__main__\": main()\n",
      "\n",
      "    \n"
     ],
     "language": "python",
     "metadata": {},
     "outputs": [
      {
       "output_type": "stream",
       "stream": "stdout",
       "text": [
        "The European Call Price is 7.073853261277715\n",
        "The European Put Price is 2.998507116743151\n"
       ]
      }
     ],
     "prompt_number": 12
    },
    {
     "cell_type": "markdown",
     "metadata": {},
     "source": [
      "## Problem 3\n",
      "\n",
      "Now please implement the multiperiod Binomial model for American calls and puts including a continuous dividend yield. Please enter your code below:"
     ]
    },
    {
     "cell_type": "code",
     "collapsed": false,
     "input": [
      "import numpy as np\n",
      "\n",
      "\n",
      "def AmericanBinomialPricer(VanillaOption, spot, rate, sigma, N, div):\n",
      "    \n",
      "    K = VanillaOption.GetStrike()\n",
      "    T = VanillaOption.GetExpiry()\n",
      "    dt = T / N\n",
      "    u = np.exp(((rate-div) * dt) + (sigma * np.sqrt(dt)))\n",
      "    d = np.exp(((rate-div) * dt) - (sigma * np.sqrt(dt)))\n",
      "    pstar = (np.exp((rate-div) * dt) - d) / (u - d)\n",
      "    disc = np.exp(-rate * T)\n",
      "    \n",
      "    St = np.zeros(N+1)\n",
      "    c = np.zeros(N+1)\n",
      "    \n",
      "    for j in range (N+1):\n",
      "        St[j] = spot*(u**j)*(d**(N-j))\n",
      "        c[j] = VanillaOption.payoff(St[j])\n",
      "\n",
      "    for i in range (N-1,-1,-1):\n",
      "        for j in range (i+1):\n",
      "            c[j] = disc * (pstar*c[j+1] + (1-pstar)*c[j])\n",
      "            St[j] = St[j]/d\n",
      "            c[j] = max (c[j], VanillaOption.payoff(St[j]))\n",
      "            \n",
      "    return c[0]            \n",
      "            \n",
      "def main():\n",
      "    \n",
      "    call = VanillaCallOption(40, 1.0)\n",
      "    put = VanillaPutOption(40, 1.0)\n",
      "    spot = 41\n",
      "    rate = 0.08\n",
      "    sigma = 0.3\n",
      "    N = 3 \n",
      "    div = 0\n",
      "\n",
      "    callPrice = AmericanBinomialPricer(call, spot, rate, sigma, N, div)\n",
      "    print(\"The American Call Price is {}\".format(callPrice))\n",
      "\n",
      "    putPrice = AmericanBinomialPricer(put, spot, rate, sigma, N, div)\n",
      "    print(\"The American Put Price is {}\".format(putPrice))\n",
      "\n",
      "if __name__ == \"__main__\": main()\n"
     ],
     "language": "python",
     "metadata": {},
     "outputs": [
      {
       "output_type": "stream",
       "stream": "stdout",
       "text": [
        "The American Call Price is 6.0458106635680275\n",
        "The American Put Price is 2.929015668156513\n"
       ]
      }
     ],
     "prompt_number": 13
    }
   ],
   "metadata": {}
  }
 ]
}