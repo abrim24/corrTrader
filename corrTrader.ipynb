{
 "cells": [
  {
   "cell_type": "markdown",
   "metadata": {},
   "source": [
    "<h2> Stock Market Correlation Detection by a Multi-Agent Intelligent System </h2>\n"
   ]
  },
  {
   "cell_type": "markdown",
   "metadata": {},
   "source": [
    "<h3>Abstract</h3>\n",
    "\n",
    "<p>\n",
    "Every Sector of the Stock Market has stocks whose prices correlate[1] which\n",
    "each other. As the stock market moves up and down, stocks in the same sector\n",
    "often move up and down with each other. But what if there exists correlation[2]\n",
    "between stocks from different sectors?\n",
    "</p>\n",
    "<p>\n",
    "This paper analyzes the approach of detecting inter-sector Stock price correlation,\n",
    "by using a multi-agent intelligent System. There are other papers\n",
    "looking dealing with similar looks at the stock market[3], but this approach will\n",
    "focus the agents on analyzing correlation. Each agent will be a process, which\n",
    "analyzes the correlation between stock prices in a given business sector. For\n",
    "example, one process would analyze the correlation between stock prices in the\n",
    "financial sector. Another process would analyze the correlation between stock\n",
    "prices in the tech sector. These agents will communicate with each other, to\n",
    "find correlation in large datasets.\n",
    "</p>\n",
    "<p>\n",
    "Each of the agents will first find stocks with a high correlation-coefficient\n",
    "in their own sector. Then as those stocks are discovered, they will be passed\n",
    "along to other agents analyzing other sectors, to see if the correlation extends\n",
    "across multiple sectors. This cooperative information from the agents would\n",
    "allow prediction of how stock price trend could move across different sectors.\n",
    "The goal with the agents in this system is finding the correlation coefficient\n",
    "between stocks. Assigning each agent a given sector, or subset of that sector,\n",
    "would allow them to focus on a small piece of the larger puzzle and do so in a fast\n",
    "autonomous way. After the agent has found correlation between stock prices,\n",
    "only that information would be communicated to other agents. Thus eliminating\n",
    "large amounts of communication overhead. Each agent would only be testing\n",
    "for correlation with stocks from another sector, if those stocks had already\n",
    "exhibited correlation. The data containing which stock prices have correlation\n",
    "would be stored locally. Occasionally there would be a data aggregation process\n",
    "to collect information from the agents, but there would be little to no overhead\n",
    "of communicating with a centralized, or parent process.\n",
    "</p>"
   ]
  },
  {
   "cell_type": "code",
   "execution_count": null,
   "metadata": {
    "collapsed": true
   },
   "outputs": [],
   "source": []
  }
 ],
 "metadata": {
  "kernelspec": {
   "display_name": "Python 2",
   "language": "python",
   "name": "python2"
  },
  "language_info": {
   "codemirror_mode": {
    "name": "ipython",
    "version": 2
   },
   "file_extension": ".py",
   "mimetype": "text/x-python",
   "name": "python",
   "nbconvert_exporter": "python",
   "pygments_lexer": "ipython2",
   "version": "2.7.9"
  }
 },
 "nbformat": 4,
 "nbformat_minor": 0
}
